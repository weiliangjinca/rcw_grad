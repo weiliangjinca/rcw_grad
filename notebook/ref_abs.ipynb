{
 "cells": [
  {
   "cell_type": "code",
   "execution_count": 1,
   "metadata": {},
   "outputs": [],
   "source": [
    "import autograd.numpy as np\n",
    "from autograd import grad\n",
    "import nlopt, numpy as npf\n",
    "import matplotlib.pyplot as plt\n",
    "\n",
    "import sys\n",
    "sys.path.append('../')\n",
    "\n",
    "import use_autograd\n",
    "use_autograd.use = 1\n",
    "import rcwa\n",
    "from utils import test_grad\n",
    "from fft_funs import get_conv"
   ]
  },
  {
   "cell_type": "code",
   "execution_count": 6,
   "metadata": {},
   "outputs": [],
   "source": [
    "t = 59e-9\n",
    "Period = 2e-6\n",
    "\n",
    "lam0=1.2e-6\n",
    "freq = 1.0\n",
    "\n",
    "Nx = 50\n",
    "Ny = 50"
   ]
  },
  {
   "cell_type": "code",
   "execution_count": 7,
   "metadata": {},
   "outputs": [],
   "source": [
    "nG = 51\n",
    "# lattice vector\n",
    "Lx = Period/lam0\n",
    "Ly = Period/lam0\n",
    "L1 = [Lx,0.]\n",
    "L2 = [0.,Ly]\n",
    "\n",
    "# planewave excitation\n",
    "p_amp = 0.\n",
    "s_amp = 1.\n",
    "p_phase = 0.\n",
    "s_phase = 0.\n",
    "# frequency and angles\n",
    "theta = 0.\n",
    "phi = 0.\n",
    "\n",
    "# now consider three layers: vacuum + patterned + vacuum\n",
    "epsuniform1 = 1.\n",
    "epsdiff = 11.3+1.0j\n",
    "epsbkg = 1\n",
    "epsuniform3 = 1.\n",
    "\n",
    "thick1 = 1.\n",
    "thick2 = t/lam0\n",
    "thick3 = 1."
   ]
  },
  {
   "cell_type": "code",
   "execution_count": 8,
   "metadata": {},
   "outputs": [],
   "source": [
    "ctrl = 0\n",
    "vec = []\n",
    "def fun_abs(dof,Qabs):\n",
    "\n",
    "    freqcmp = freq*(1+1j/2/Qabs)\n",
    "    obj = rcwa.RCWA_obj(nG,L1,L2,freqcmp,theta,phi,verbose=0)\n",
    "    obj.Add_LayerUniform(thick1,epsuniform1)\n",
    "    obj.Add_LayerGrid(thick2,epsdiff,epsbkg,Nx,Ny)\n",
    "    obj.Add_LayerUniform(thick3,epsuniform3)\n",
    "    obj.Init_Setup(Gmethod=0)\n",
    "\n",
    "    obj.MakeExcitationPlanewave(p_amp,p_phase,s_amp,s_phase,order = 0)\n",
    "    obj.GridLayer_getDOF(dof)\n",
    "        \n",
    "    Mv = get_conv(1./Nx/Ny,dof.reshape(Nx,Ny),obj.G)\n",
    "    \n",
    "    val = obj.Volume_integral(1,Mv,Mv,Mv,normalize=1)\n",
    "    val = np.real(val)\n",
    "\n",
    "\n",
    "    if 'autograd' not in str(type(val)):\n",
    "        global ctrl\n",
    "        global vec\n",
    "        vec = npf.copy(dof)\n",
    "        \n",
    "        print ctrl,val\n",
    "        if npf.mod(ctrl,10)==0:\n",
    "            plt.figure();\n",
    "            plt.imshow(np.reshape(dof,(Nx,Ny)))\n",
    "            plt.colorbar()\n",
    "            plt.show()\n",
    "            \n",
    "        ctrl +=1\n",
    "    return val"
   ]
  },
  {
   "cell_type": "code",
   "execution_count": null,
   "metadata": {},
   "outputs": [],
   "source": [
    "Qabs = 100.\n",
    "fun = lambda dof: fun_abs(dof,Qabs)\n",
    "grad_fun = grad(fun)\n",
    "def fun_nlopt(dof,gradn):\n",
    "    gradn[:] = grad_fun(dof)\n",
    "    return fun(dof)\n",
    "\n",
    "ndof = Nx*Ny\n",
    "#init = np.zeros(ndof)+1e-1*np.random.random(ndof)\n",
    "init = np.random.random(ndof)\n",
    "lb=np.zeros(ndof,dtype=float)\n",
    "ub=np.ones(ndof,dtype=float)\n",
    "\n",
    "opt = nlopt.opt(nlopt.LD_MMA, ndof)\n",
    "opt.set_lower_bounds(lb)\n",
    "opt.set_upper_bounds(ub)\n",
    "\n",
    "opt.set_ftol_rel(1e-10)\n",
    "opt.set_maxeval(500)\n",
    "\n",
    "opt.set_min_objective(fun_nlopt)\n",
    "x = opt.optimize(init)"
   ]
  },
  {
   "cell_type": "code",
   "execution_count": null,
   "metadata": {},
   "outputs": [],
   "source": [
    "np.mean(vec)"
   ]
  },
  {
   "cell_type": "code",
   "execution_count": null,
   "metadata": {
    "scrolled": true
   },
   "outputs": [],
   "source": [
    "Qabs = 10.\n",
    "fun = lambda dof: fun_abs(dof,Qabs)\n",
    "grad_fun = grad(fun)\n",
    "\n",
    "x = np.random.random(Nx*Ny)\n",
    "test_grad(fun,grad_fun,x,1e-5,0)"
   ]
  }
 ],
 "metadata": {
  "kernelspec": {
   "display_name": "Python 2",
   "language": "python",
   "name": "python2"
  },
  "language_info": {
   "codemirror_mode": {
    "name": "ipython",
    "version": 2
   },
   "file_extension": ".py",
   "mimetype": "text/x-python",
   "name": "python",
   "nbconvert_exporter": "python",
   "pygments_lexer": "ipython2",
   "version": "2.7.17"
  }
 },
 "nbformat": 4,
 "nbformat_minor": 2
}
