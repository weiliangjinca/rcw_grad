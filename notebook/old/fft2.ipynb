{
 "cells": [
  {
   "cell_type": "code",
   "execution_count": 1,
   "metadata": {},
   "outputs": [],
   "source": [
    "import numpy as np\n",
    "from numpy import fft\n",
    "import matplotlib.pyplot as plt\n",
    "import sys\n",
    "sys.path.append('../')\n",
    "import math\n",
    "import use_autograd\n",
    "use_autograd_use = 0\n",
    "\n",
    "import fft_funs as iff\n",
    "import kbloch as kb"
   ]
  },
  {
   "cell_type": "code",
   "execution_count": 2,
   "metadata": {},
   "outputs": [
    {
     "data": {
      "image/png": "[encoded data removed]",
      "text/plain": [
       "<Figure size 432x288 with 2 Axes>"
      ]
     },
     "metadata": {
      "needs_background": "light"
     },
     "output_type": "display_data"
    }
   ],
   "source": [
    "Nx = 31\n",
    "Ny = 21\n",
    "Lx = 1.\n",
    "Ly = 1.\n",
    "radius = 0.3\n",
    "L1 = [Lx,0.]\n",
    "L2 = [0.,Ly]\n",
    "\n",
    "dx = 1./Nx\n",
    "dy = 1./Ny\n",
    "\n",
    "x0 = np.linspace(0,Lx,Nx)\n",
    "y0 = np.linspace(0,Ly,Ny)\n",
    "x, y = np.meshgrid(x0,y0,indexing='ij')\n",
    "sphere = (x-.5*Lx)**2+(y-.5*Ly)**2<radius**2\n",
    "\n",
    "eps_grid = np.ones((Nx,Ny));\n",
    "eps_grid[sphere]=5\n",
    "\n",
    "plt.figure();\n",
    "plt.imshow(eps_grid)\n",
    "plt.colorbar()\n",
    "plt.show()"
   ]
  },
  {
   "cell_type": "code",
   "execution_count": 3,
   "metadata": {},
   "outputs": [
    {
     "name": "stdout",
     "output_type": "stream",
     "text": [
      "37\n"
     ]
    },
    {
     "data": {
      "image/png": "[encoded data removed]",
      "text/plain": [
       "<Figure size 432x288 with 2 Axes>"
      ]
     },
     "metadata": {
      "needs_background": "light"
     },
     "output_type": "display_data"
    }
   ],
   "source": [
    "nG_init = 41 # total number of truncation order in 2D\n",
    "Lk1,Lk2 = kb.Lattice_Reciprocate(L1,L2)  # reciprocal lattice vector\n",
    "G,nG = kb.Lattice_getG(nG_init,Lk1,Lk2,method=0)\n",
    "print nG\n",
    "\n",
    "dN = 1./Nx/Ny\n",
    "epscon = iff.get_conv(dN,eps_grid,G)  #convolution epsilon\n",
    "# eps(x) * I = IFFT [ epsconv * delta_1i]\n",
    "Jf = np.zeros(nG)\n",
    "Jf[0] =1.\n",
    "s_in = np.dot(epscon,Jf)\n",
    "out = iff.get_ifft(Nx,Ny,s_in,G)\n",
    "\n",
    "plt.figure()\n",
    "plt.imshow(np.real(out))\n",
    "plt.colorbar()\n",
    "plt.show()"
   ]
  },
  {
   "cell_type": "code",
   "execution_count": null,
   "metadata": {},
   "outputs": [],
   "source": []
  }
 ],
 "metadata": {
  "kernelspec": {
   "display_name": "Python 2",
   "language": "python",
   "name": "python2"
  },
  "language_info": {
   "codemirror_mode": {
    "name": "ipython",
    "version": 2
   },
   "file_extension": ".py",
   "mimetype": "text/x-python",
   "name": "python",
   "nbconvert_exporter": "python",
   "pygments_lexer": "ipython2",
   "version": "2.7.16"
  }
 },
 "nbformat": 4,
 "nbformat_minor": 2
}
