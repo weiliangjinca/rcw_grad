{
 "cells": [
  {
   "cell_type": "code",
   "execution_count": 1,
   "metadata": {},
   "outputs": [],
   "source": [
    "import autograd.numpy as np\n",
    "from autograd import grad\n",
    "from autograd.extend import primitive, defvjp\n",
    "import numpy as npf\n",
    "import sys,time\n",
    "sys.path.append('../')\n",
    "import use_autograd\n",
    "use_autograd.use = 1\n",
    "import rcwa\n",
    "from fft_funs import get_conv\n",
    "from utils import test_grad"
   ]
  },
  {
   "cell_type": "code",
   "execution_count": 2,
   "metadata": {},
   "outputs": [
    {
     "name": "stdout",
     "output_type": "stream",
     "text": [
      "('Total nG = ', 21)\n"
     ]
    }
   ],
   "source": [
    "reload(rcwa)\n",
    "nG = 21\n",
    "# lattice vector\n",
    "Lx = .1\n",
    "Ly = .1\n",
    "L1 = [Lx,0.]\n",
    "L2 = [0.,Ly]\n",
    "\n",
    "# frequency and angles\n",
    "freq = 1.\n",
    "theta = np.pi/4\n",
    "phi = 0.\n",
    "\n",
    "# now consider three layers: vacuum + patterned + vacuum\n",
    "epsuniform1 = 2.\n",
    "epsuniform3 = 1.\n",
    "thick1 = 1.\n",
    "thick2 = 2.\n",
    "thick3 = 1.\n",
    "\n",
    "# for patterned layer, eps = epsbkg + dof * epsdiff\n",
    "epsbkg = 1.\n",
    "epsdiff = -2+1j\n",
    "\n",
    "# discretization for patterend layer\n",
    "Nx = 10\n",
    "Ny = 10\n",
    "\n",
    "# setup RCWA\n",
    "obj = rcwa.RCWA_obj(nG,L1,L2,freq,theta,phi)\n",
    "obj.Add_LayerUniform(thick1,epsuniform1)\n",
    "obj.Add_LayerGrid(thick2,epsdiff,epsbkg,Nx,Ny)\n",
    "obj.Add_LayerUniform(thick3,epsuniform3)\n",
    "obj.Init_Setup(Gmethod=0)\n",
    "\n",
    "\n",
    "# planewave excitation\n",
    "p_amp = 0.\n",
    "s_amp = 1.\n",
    "p_phase = 0.\n",
    "s_phase = 0.\n",
    "\n",
    "obj.MakeExcitationPlanewave(p_amp,p_phase,s_amp,s_phase,order = 0)"
   ]
  },
  {
   "cell_type": "code",
   "execution_count": 3,
   "metadata": {},
   "outputs": [],
   "source": [
    "def fun_volume(x):\n",
    "    obj.GridLayer_getDOF(x)\n",
    "    y = np.reshape(x,(Nx,Ny))\n",
    "    #Mv = get_conv(1./Nx/Ny,y,obj.G)\n",
    "    Mv = np.ones((obj.nG,obj.nG))\n",
    "    \n",
    "    val = obj.Volume_integral(1,Mv,Mv,Mv,normalize=1)\n",
    "    #ai,bi = obj.GetAmplitudes(1,0.)\n",
    "    #ai = np.dot(obj.phi_list[1],ai)\n",
    "    #val = np.sum(ai)\n",
    "    return np.real(val)"
   ]
  },
  {
   "cell_type": "code",
   "execution_count": 4,
   "metadata": {
    "scrolled": true
   },
   "outputs": [
    {
     "name": "stdout",
     "output_type": "stream",
     "text": [
      "Finite difference =  0.018437789199576837 , Auto =  0.018437772848196067\n"
     ]
    }
   ],
   "source": [
    "grad_fun = grad(fun_volume)\n",
    "\n",
    "x = np.random.random(Nx*Ny)\n",
    "test_grad(fun_volume,grad_fun,x,1e-5,4)"
   ]
  },
  {
   "cell_type": "code",
   "execution_count": null,
   "metadata": {},
   "outputs": [],
   "source": [
    "def fun(x):\n",
    "    obj.GridLayer_getDOF(x)\n",
    "    R,T = obj.RT_Solve()\n",
    "    return T"
   ]
  },
  {
   "cell_type": "code",
   "execution_count": null,
   "metadata": {
    "scrolled": true
   },
   "outputs": [],
   "source": [
    "grad_fun = grad(fun)\n",
    "\n",
    "x = np.random.random(Nx*Ny)\n",
    "test_grad(fun,grad_fun,x,1e-4,0)"
   ]
  },
  {
   "cell_type": "code",
   "execution_count": null,
   "metadata": {},
   "outputs": [],
   "source": []
  }
 ],
 "metadata": {
  "kernelspec": {
   "display_name": "Python 2",
   "language": "python",
   "name": "python2"
  },
  "language_info": {
   "codemirror_mode": {
    "name": "ipython",
    "version": 2
   },
   "file_extension": ".py",
   "mimetype": "text/x-python",
   "name": "python",
   "nbconvert_exporter": "python",
   "pygments_lexer": "ipython2",
   "version": "2.7.17"
  }
 },
 "nbformat": 4,
 "nbformat_minor": 2
}
