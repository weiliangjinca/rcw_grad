{
 "cells": [
  {
   "cell_type": "code",
   "execution_count": 1,
   "metadata": {},
   "outputs": [],
   "source": [
    "import os\n",
    "os.environ[\"OPENBLAS_NUM_THREADS\"] = \"1\" # for hera\n",
    "import matplotlib.pyplot as plt\n",
    "import sys\n",
    "from numpy import pi\n",
    "import numpy as np\n",
    "sys.path.append('../')\n",
    "import rcwa"
   ]
  },
  {
   "cell_type": "code",
   "execution_count": 10,
   "metadata": {},
   "outputs": [
    {
     "name": "stdout",
     "output_type": "stream",
     "text": [
      "('Total nG = ', 101)\n"
     ]
    }
   ],
   "source": [
    "nG = 101\n",
    "# lattice vector\n",
    "Lx = .1\n",
    "Ly = .1\n",
    "L1 = [Lx,0.]\n",
    "L2 = [0.,Ly]\n",
    "\n",
    "# discretization for patterend layer\n",
    "Nx = 1500\n",
    "Ny = 1500\n",
    "\n",
    "# frequency and angles\n",
    "freq = 1.\n",
    "theta = 0.\n",
    "phi = 0.\n",
    "\n",
    "# now consider three layers: vacuum + patterned + vacuum\n",
    "epsuniform1 = 2.\n",
    "epsuniform3 = 1.\n",
    "thick1 = 1.\n",
    "thick2 = 1.\n",
    "thick3 = 1.\n",
    "\n",
    "# just assign any values when calling GridLayer_geteps instead of GridLayer_getDOF\n",
    "epsbkg = 1.\n",
    "epsdiff = 11.\n",
    "\n",
    "# setup RCWA\n",
    "obj = rcwa.RCWA_obj(nG,L1,L2,freq,theta,phi)\n",
    "obj.Add_LayerUniform(thick1,epsuniform1)\n",
    "obj.Add_LayerGrid(thick2,epsdiff,epsbkg,Nx,Ny)\n",
    "obj.Add_LayerUniform(thick3,epsuniform3)\n",
    "obj.Init_Setup(Gmethod=0)"
   ]
  },
  {
   "cell_type": "code",
   "execution_count": 7,
   "metadata": {
    "scrolled": false
   },
   "outputs": [
    {
     "data": {
      "image/png": "[encoded data removed]",
      "text/plain": [
       "<Figure size 432x288 with 2 Axes>"
      ]
     },
     "metadata": {
      "needs_background": "light"
     },
     "output_type": "display_data"
    }
   ],
   "source": [
    "# define the epsilon profile\n",
    "# consider two cylinders, one located at (x1,y1) with radius r1, and eps1, the other (x2,y2) with radius r2 and eps2\n",
    "# the rest has epsbkg\n",
    "\n",
    "epsbkg = 1.\n",
    "\n",
    "x1 = 0.\n",
    "y1 = 0.\n",
    "r1 = 0.1\n",
    "eps1 = 3.+1.j\n",
    "\n",
    "x2 = 0.5\n",
    "y2 = 0.5\n",
    "r2 = 0.1\n",
    "eps2 = 5.+2.j\n",
    "\n",
    "# let's setup\n",
    "ep_full = np.ones((Nx,Ny),dtype=complex) * epsbkg\n",
    "x0 = np.linspace(0,1.,Nx)\n",
    "y0 = np.linspace(0,1.,Ny)\n",
    "x, y = np.meshgrid(x0,y0,indexing='ij')\n",
    "\n",
    "c1 = (x-x1)**2+(y-y1)**2<r1**2\n",
    "ep_full[c1]=eps1\n",
    "\n",
    "c2 = (x-x2)**2+(y-y2)**2<r2**2\n",
    "ep_full[c2]=eps2\n",
    "\n",
    "plt.figure();\n",
    "plt.imshow(np.real(ep_full))\n",
    "plt.colorbar()\n",
    "plt.show()"
   ]
  },
  {
   "cell_type": "code",
   "execution_count": 8,
   "metadata": {},
   "outputs": [
    {
     "name": "stdout",
     "output_type": "stream",
     "text": [
      "('R=', 0.027766571000328952, ', T=', 0.8777064592561156, ', R+T=', 0.9054730302564445)\n"
     ]
    }
   ],
   "source": [
    "obj.GridLayer_geteps(ep_full)\n",
    "\n",
    "p_amp = 0.\n",
    "s_amp = 1.\n",
    "p_phase = 0.\n",
    "s_phase = 0.\n",
    "\n",
    "obj.MakeExcitationPlanewave(p_amp,p_phase,s_amp,s_phase,order = 0)\n",
    "R,T= obj.RT_Solve(normalize=1)\n",
    "print(\"R=\",R,\", T=\",T,\", R+T=\",R+T)"
   ]
  },
  {
   "cell_type": "code",
   "execution_count": null,
   "metadata": {},
   "outputs": [],
   "source": []
  }
 ],
 "metadata": {
  "kernelspec": {
   "display_name": "Python 2",
   "language": "python",
   "name": "python2"
  },
  "language_info": {
   "codemirror_mode": {
    "name": "ipython",
    "version": 2
   },
   "file_extension": ".py",
   "mimetype": "text/x-python",
   "name": "python",
   "nbconvert_exporter": "python",
   "pygments_lexer": "ipython2",
   "version": "2.7.17"
  }
 },
 "nbformat": 4,
 "nbformat_minor": 2
}
