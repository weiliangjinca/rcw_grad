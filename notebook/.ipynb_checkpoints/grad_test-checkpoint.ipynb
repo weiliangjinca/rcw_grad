{
 "cells": [
  {
   "cell_type": "code",
   "execution_count": 95,
   "metadata": {},
   "outputs": [],
   "source": [
    "import autograd.numpy as np\n",
    "from autograd import grad\n",
    "import numpy as npf\n",
    "import sys\n",
    "sys.path.append('../')\n",
    "from utils import test_grad\n",
    "\n",
    "import use_autograd\n",
    "use_autograd.use = 1\n",
    "import rcwa\n",
    "import fft_funs as iff\n",
    "from autograd.extend import primitive, defvjp\n",
    "from primitives import vjp_maker_eig\n",
    "from primitives_fix import grad_eig\n",
    "eig = primitive(npf.linalg.eig)\n",
    "defvjp(eig, vjp_maker_eig)\n",
    "#defvjp(eig, grad_eig)"
   ]
  },
  {
   "cell_type": "code",
   "execution_count": 96,
   "metadata": {},
   "outputs": [
    {
     "name": "stdout",
     "output_type": "stream",
     "text": [
      "Total nG =  9\n"
     ]
    }
   ],
   "source": [
    "reload(rcwa)\n",
    "nG = 11\n",
    "Lx = .1\n",
    "Ly = .1\n",
    "freq = 1.\n",
    "theta = 0.\n",
    "phi = 0\n",
    "\n",
    "epsuniform1 = 1.\n",
    "epsuniform3 = 1.\n",
    "epsbkg = 1.\n",
    "epsdiff = 11.\n",
    "\n",
    "thick1 = 1.\n",
    "thick2 = 1.\n",
    "thick3 = 1.\n",
    "\n",
    "Nx = 20\n",
    "Ny = 20\n",
    "obj = rcwa.RCWA_obj(nG,Lx,Ly,freq,theta,phi)\n",
    "obj.Add_LayerUniform(thick1,epsuniform1)\n",
    "obj.Add_LayerGrid(thick2,epsdiff,epsbkg,Nx,Ny)\n",
    "obj.Add_LayerUniform(thick3,epsuniform3)\n",
    "obj.Init_Setup(Gmethod=0)"
   ]
  },
  {
   "cell_type": "code",
   "execution_count": 117,
   "metadata": {},
   "outputs": [],
   "source": [
    "def fun(x):\n",
    "#     tmp = np.reshape(x,(Nx,Ny))\n",
    "#     y1,y2 = iff.GetEpsilon_FFT(Nx,Ny,tmp,obj.G)\n",
    "#     return np.abs(np.sum(y2)-np.sum(y1))\n",
    "\n",
    "    tmp = np.reshape(x,(Nx,Ny))\n",
    "    tmp = tmp + np.transpose(tmp)\n",
    "\n",
    "    q,phi = eig(tmp)\n",
    "#     tmp = np.reshape(x,(Nx,Ny))\n",
    "#     y1 = tmp + 1j\n",
    "#     y2 = tmp - 1j\n",
    "#     out = np.dot(y1,y2)\n",
    "    return np.abs(np.sum(q))"
   ]
  },
  {
   "cell_type": "code",
   "execution_count": 118,
   "metadata": {},
   "outputs": [
    {
     "name": "stdout",
     "output_type": "stream",
     "text": [
      "Finite difference =  1.9999999999829043 , Auto =  1.9999999999999998\n"
     ]
    }
   ],
   "source": [
    "grad_fun = grad(fun)\n",
    "\n",
    "x = np.random.random(Nx*Ny)\n",
    "test_grad(fun,grad_fun,x,1e-3,0)"
   ]
  },
  {
   "cell_type": "code",
   "execution_count": 165,
   "metadata": {},
   "outputs": [],
   "source": [
    "reload(iff)\n",
    "reload(rcwa)\n",
    "def fun2(x):\n",
    "    tmp = np.reshape(x,(Nx,Ny))*4+1\n",
    "#     sfft = np.fft.fft2(tmp)\n",
    "#     ix = range(obj.nG)\n",
    "#     ii,jj = np.meshgrid(ix,ix,indexing='ij')\n",
    "#     eps_fft = sfft[obj.G[ii,0]-obj.G[jj,0], obj.G[ii,1]-obj.G[jj,1]]\n",
    "#     epinv = np.linalg.inv(eps_fft)\n",
    "#     ep2 = np.block([[eps_fft,np.zeros_like(eps_fft)],\n",
    "#                      [np.zeros_like(eps_fft),eps_fft]])\n",
    "    \n",
    "#     eps_fft = tmp[:obj.nG,:obj.nG]\n",
    "#     epinv = eps_fft\n",
    "#     ep21 = np.vstack((eps_fft,np.zeros_like(eps_fft)))\n",
    "#     ep22 = np.vstack((np.zeros_like(eps_fft),eps_fft))\n",
    "#     ep2 = np.hstack((ep21,ep22))\n",
    "                     \n",
    "    \n",
    "#     ep2 = np.block([[eps_fft,np.zeros_like(eps_fft)],\n",
    "#                      [np.zeros_like(eps_fft),eps_fft]])\n",
    "    epinv, ep2 = iff.GetEpsilon_FFT(Nx,Ny,tmp,obj.G)\n",
    "    \n",
    "    mkx = np.diag(obj.kx)\n",
    "    mky = np.diag(obj.ky)\n",
    "    #obj.GridLayer_getDOF(x)\n",
    "    \n",
    "    kp = rcwa.MakeKPMatrix(obj.omega,1,epinv,obj.kx,obj.ky)\n",
    "    q,phi = rcwa.SolveLayerEigensystem(obj.omega,obj.kx,obj.ky,kp,ep2)\n",
    "    #k = np.block([ [np.diag(obj.kx)],[np.diag(obj.ky)] ])\n",
    "    #kkT = np.dot(k,np.transpose(k))\n",
    "    #M = np.dot(ep2,kp) - kkT\n",
    "    #q,phi = eig(M)\n",
    "    return np.real(np.sum(q))"
   ]
  },
  {
   "cell_type": "code",
   "execution_count": 166,
   "metadata": {},
   "outputs": [
    {
     "name": "stdout",
     "output_type": "stream",
     "text": [
      "Finite difference =  -0.03429262270771005 , Auto =  -0.034292172346662785\n"
     ]
    }
   ],
   "source": [
    "grad_fun = grad(fun2)\n",
    "\n",
    "#x = np.random.random(4*obj.nG**2)\n",
    "x = np.random.random(Nx*Ny)\n",
    "test_grad(fun2,grad_fun,x,1e-3,0)\n",
    "#fun2(x)"
   ]
  },
  {
   "cell_type": "code",
   "execution_count": null,
   "metadata": {},
   "outputs": [],
   "source": []
  }
 ],
 "metadata": {
  "kernelspec": {
   "display_name": "Python 2",
   "language": "python",
   "name": "python2"
  },
  "language_info": {
   "codemirror_mode": {
    "name": "ipython",
    "version": 2
   },
   "file_extension": ".py",
   "mimetype": "text/x-python",
   "name": "python",
   "nbconvert_exporter": "python",
   "pygments_lexer": "ipython2",
   "version": "2.7.16"
  }
 },
 "nbformat": 4,
 "nbformat_minor": 2
}
