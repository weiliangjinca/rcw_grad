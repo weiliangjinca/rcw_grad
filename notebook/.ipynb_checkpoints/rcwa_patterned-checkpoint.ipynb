{
 "cells": [
  {
   "cell_type": "code",
   "execution_count": 1,
   "metadata": {},
   "outputs": [],
   "source": [
    "import os\n",
    "os.environ[\"OPENBLAS_NUM_THREADS\"] = \"1\" # for hera\n",
    "import matplotlib.pyplot as plt\n",
    "import sys,time\n",
    "from numpy import pi\n",
    "import numpy as np\n",
    "sys.path.append('../')\n",
    "import rcwa\n",
    "from fft_funs import get_conv"
   ]
  },
  {
   "cell_type": "code",
   "execution_count": 2,
   "metadata": {
    "scrolled": false
   },
   "outputs": [
    {
     "data": {
      "image/png": "[encoded data removed]",
      "text/plain": [
       "<Figure size 432x288 with 2 Axes>"
      ]
     },
     "metadata": {
      "needs_background": "light"
     },
     "output_type": "display_data"
    }
   ],
   "source": [
    "# discretization for patterend layer\n",
    "Nx = 100\n",
    "Ny = 100\n",
    "r2 = 0.3\n",
    "r1 = 0.2\n",
    "# let's setup a cylinder grid, and here we plot eps_patterend to double check\n",
    "\n",
    "dof = np.ones((Nx,Ny))\n",
    "x0 = np.linspace(0,1.,Nx)\n",
    "y0 = np.linspace(0,1.,Ny)\n",
    "x, y = np.meshgrid(x0,y0,indexing='ij')\n",
    "sphere = (x-.5)**2/r1**2+(y-.5)**2/r2**2<1\n",
    "#dof[sphere]=0\n",
    "plt.figure();\n",
    "plt.imshow(dof)\n",
    "plt.colorbar()\n",
    "plt.show()"
   ]
  },
  {
   "cell_type": "code",
   "execution_count": 22,
   "metadata": {},
   "outputs": [
    {
     "name": "stdout",
     "output_type": "stream",
     "text": [
      "('Total nG = ', 101)\n"
     ]
    }
   ],
   "source": [
    "reload(rcwa)\n",
    "nG = 101\n",
    "# lattice vector\n",
    "Lx = .1\n",
    "Ly = .1\n",
    "L1 = [Lx,0.]\n",
    "L2 = [0.,Ly]\n",
    "\n",
    "# frequency and angles\n",
    "freq = 0.5\n",
    "theta = 0.\n",
    "phi = 0.\n",
    "\n",
    "# now consider three layers: vacuum + patterned + vacuum\n",
    "epsuniform1 = 1.\n",
    "epsuniform2 = 1.\n",
    "thick1 = 1.\n",
    "thick2 = 0.25\n",
    "thick3 = 1.\n",
    "\n",
    "# for patterned layer, eps = epsbkg + dof * epsdiff\n",
    "epsbkg = 1.\n",
    "epsdiff = 11.299048999999991 + 0.000000669787663*1j\n",
    "\n",
    "# setup RCWA\n",
    "obj = rcwa.RCWA_obj(nG,L1,L2,freq,theta,phi)\n",
    "obj.Add_LayerUniform(thick1,epsuniform1)\n",
    "obj.Add_LayerGrid(thick2,epsdiff,epsbkg,Nx,Ny)\n",
    "obj.Add_LayerUniform(thick3,epsuniform2)\n",
    "obj.Init_Setup(Gmethod=0)\n",
    "# add DOF to rcwa\n",
    "obj.GridLayer_getDOF(dof.flatten())"
   ]
  },
  {
   "cell_type": "code",
   "execution_count": 23,
   "metadata": {},
   "outputs": [
    {
     "name": "stdout",
     "output_type": "stream",
     "text": [
      "('R=', 0.27007783828030674, ', T=', 0.7299219765115224, ', Abs=', 1.852081709108333e-07)\n"
     ]
    }
   ],
   "source": [
    "p_amp = 0.\n",
    "s_amp = 1.\n",
    "p_phase = 0.\n",
    "s_phase = 0.\n",
    "\n",
    "obj.MakeExcitationPlanewave(p_amp,p_phase,s_amp,s_phase,order = 0)\n",
    "R,T= obj.RT_Solve(normalize=1)\n",
    "# this is merely reflected and transmitted power\n",
    "# To get the reflection and transmission coefficient, some normalization is needed\n",
    "print(\"R=\",R,\", T=\",T,\", Abs=\",1-R-T)"
   ]
  },
  {
   "cell_type": "code",
   "execution_count": 24,
   "metadata": {},
   "outputs": [
    {
     "name": "stdout",
     "output_type": "stream",
     "text": [
      "1.8520817148708954e-07\n"
     ]
    }
   ],
   "source": [
    "epimag = np.imag(epsdiff)*dof\n",
    "Mv = get_conv(1./Nx/Ny,epimag,obj.G)\n",
    "val = obj.Volume_integral(1,Mv,Mv,Mv,normalize=0)\n",
    "print(np.real(val*obj.omega))"
   ]
  },
  {
   "cell_type": "code",
   "execution_count": null,
   "metadata": {},
   "outputs": [],
   "source": []
  }
 ],
 "metadata": {
  "kernelspec": {
   "display_name": "Python 2",
   "language": "python",
   "name": "python2"
  },
  "language_info": {
   "codemirror_mode": {
    "name": "ipython",
    "version": 2
   },
   "file_extension": ".py",
   "mimetype": "text/x-python",
   "name": "python",
   "nbconvert_exporter": "python",
   "pygments_lexer": "ipython2",
   "version": "2.7.17"
  }
 },
 "nbformat": 4,
 "nbformat_minor": 2
}
