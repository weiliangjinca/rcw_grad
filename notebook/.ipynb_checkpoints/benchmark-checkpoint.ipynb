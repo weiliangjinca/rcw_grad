{
 "cells": [
  {
   "cell_type": "code",
   "execution_count": 6,
   "metadata": {},
   "outputs": [],
   "source": [
    "import autograd.numpy as np\n",
    "from autograd import grad\n",
    "from time import time\n",
    "from scipy import linalg\n",
    "from numpy.linalg import solve as bslash\n",
    "\n",
    "import sys\n",
    "sys.path.append('../')\n",
    "\n",
    "from autograd.extend import primitive, defvjp\n",
    "from primitives import vjp_maker_eig\n",
    "\n",
    "eig = primitive(np.linalg.eig)\n",
    "defvjp(eig, vjp_maker_eig)"
   ]
  },
  {
   "cell_type": "code",
   "execution_count": 7,
   "metadata": {},
   "outputs": [],
   "source": [
    "N = 2000\n",
    "M = np.random.random((N,N))\n",
    "M = M + np.transpose(M)\n",
    "x = np.random.random(N)"
   ]
  },
  {
   "cell_type": "code",
   "execution_count": 10,
   "metadata": {},
   "outputs": [
    {
     "name": "stdout",
     "output_type": "stream",
     "text": [
      "3.64864301682\n"
     ]
    }
   ],
   "source": [
    "t1 = time()\n",
    "#a = linalg.inv(M)\n",
    "#a = np.linalg.inv(M)\n",
    "L,V = eig(M)\n",
    "#a = bslash(M,x)\n",
    "#a = np.linalg.solve(M,x)\n",
    "t2 = time()\n",
    "print t2-t1"
   ]
  },
  {
   "cell_type": "code",
   "execution_count": 9,
   "metadata": {},
   "outputs": [
    {
     "name": "stdout",
     "output_type": "stream",
     "text": [
      "3.6561319828\n"
     ]
    }
   ],
   "source": [
    "t1 = time()\n",
    "Lambda, W = np.linalg.eig(M)\n",
    "t2 = time()\n",
    "print t2-t1"
   ]
  },
  {
   "cell_type": "code",
   "execution_count": null,
   "metadata": {},
   "outputs": [],
   "source": []
  }
 ],
 "metadata": {
  "kernelspec": {
   "display_name": "Python 2",
   "language": "python",
   "name": "python2"
  },
  "language_info": {
   "codemirror_mode": {
    "name": "ipython",
    "version": 2
   },
   "file_extension": ".py",
   "mimetype": "text/x-python",
   "name": "python",
   "nbconvert_exporter": "python",
   "pygments_lexer": "ipython2",
   "version": "2.7.16"
  }
 },
 "nbformat": 4,
 "nbformat_minor": 2
}
