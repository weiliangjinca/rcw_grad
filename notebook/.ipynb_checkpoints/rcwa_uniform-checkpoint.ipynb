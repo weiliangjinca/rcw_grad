{
 "cells": [
  {
   "cell_type": "code",
   "execution_count": 1,
   "metadata": {},
   "outputs": [],
   "source": [
    "import numpy as np\n",
    "from numpy import fft\n",
    "import matplotlib.pyplot as plt\n",
    "import sys\n",
    "sys.path.append('../')\n",
    "import math\n",
    "import rcwa"
   ]
  },
  {
   "cell_type": "code",
   "execution_count": 236,
   "metadata": {},
   "outputs": [
    {
     "name": "stdout",
     "output_type": "stream",
     "text": [
      "Total nG =  5\n"
     ]
    }
   ],
   "source": [
    "nG = 101\n",
    "Lx = .1\n",
    "Ly = .1\n",
    "L1 = [Lx,0.]\n",
    "L2 = [0.,Ly]\n",
    "\n",
    "freq = 1.\n",
    "\n",
    "loss = 1e-20\n",
    "epsuniform1 = 1.\n",
    "epsuniform2 = 10.\n",
    "epsuniform3 = 1.\n",
    "\n",
    "thick1 = 1.\n",
    "thick2 = 1.\n",
    "thick3 = 1.\n",
    "\n",
    "Nx = 20\n",
    "Ny = 20\n",
    "obj = rcwa.RCWA_obj(nG,Lx,Ly,freq,kx0,ky0,method=0)\n",
    "obj.Add_LayerUniform(thick1,epsuniform1)\n",
    "#obj.Add_LayerUniform(thick2,epsuniform2)\n",
    "obj.Add_LayerUniform(thick3,epsuniform3)\n",
    "obj.Init_Setup()"
   ]
  },
  {
   "cell_type": "code",
   "execution_count": 234,
   "metadata": {},
   "outputs": [
    {
     "name": "stdout",
     "output_type": "stream",
     "text": [
      "[(1.0000000000000002+0j), (-0.0318831119072419+0j)] [(0.9681168880927584+0j), 0j]\n"
     ]
    }
   ],
   "source": [
    "reload(rcwa)\n",
    "a0 = np.zeros(obj.nG*2)\n",
    "a0[0] = 1.\n",
    "bn = np.zeros(obj.nG*2)\n",
    "a,b = obj.RT_Solve(a0,bn)\n",
    "print a,b"
   ]
  },
  {
   "cell_type": "code",
   "execution_count": null,
   "metadata": {},
   "outputs": [],
   "source": []
  }
 ],
 "metadata": {
  "kernelspec": {
   "display_name": "Python 2",
   "language": "python",
   "name": "python2"
  },
  "language_info": {
   "codemirror_mode": {
    "name": "ipython",
    "version": 2
   },
   "file_extension": ".py",
   "mimetype": "text/x-python",
   "name": "python",
   "nbconvert_exporter": "python",
   "pygments_lexer": "ipython2",
   "version": "2.7.16"
  }
 },
 "nbformat": 4,
 "nbformat_minor": 2
}
