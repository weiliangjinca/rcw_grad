{
 "cells": [
  {
   "cell_type": "code",
   "execution_count": 1,
   "metadata": {},
   "outputs": [],
   "source": [
    "import autograd.numpy as np\n",
    "from autograd import grad\n",
    "import numpy as npf\n",
    "import sys\n",
    "sys.path.append('../')\n",
    "import use_autograd\n",
    "use_autograd.use = 1\n",
    "import rcwa\n",
    "from utils import test_grad"
   ]
  },
  {
   "cell_type": "code",
   "execution_count": 18,
   "metadata": {},
   "outputs": [
    {
     "name": "stdout",
     "output_type": "stream",
     "text": [
      "Total nG =  101\n"
     ]
    }
   ],
   "source": [
    "nG = 101\n",
    "# lattice vector\n",
    "Lx = .1\n",
    "Ly = .1\n",
    "L1 = [Lx,0.]\n",
    "L2 = [0.,Ly]\n",
    "\n",
    "# frequency and angles\n",
    "freq = 1.\n",
    "theta = np.pi/4\n",
    "phi = 0.\n",
    "\n",
    "# now consider three layers: vacuum + patterned + vacuum\n",
    "epsuniform1 = 1.\n",
    "epsuniform3 = 1.\n",
    "thick1 = 1.\n",
    "thick2 = 2.\n",
    "thick3 = 1.\n",
    "\n",
    "# for patterned layer, eps = epsbkg + dof * epsdiff\n",
    "epsbkg = 1.\n",
    "epsdiff = 11.+1j\n",
    "\n",
    "# discretization for patterend layer\n",
    "Nx = 500\n",
    "Ny = 500\n",
    "\n",
    "# setup RCWA\n",
    "obj = rcwa.RCWA_obj(nG,L1,L2,freq,theta,phi)\n",
    "obj.Add_LayerUniform(thick1,epsuniform1)\n",
    "obj.Add_LayerGrid(thick2,epsdiff,epsbkg,Nx,Ny)\n",
    "obj.Add_LayerUniform(thick3,epsuniform3)\n",
    "obj.Init_Setup(Gmethod=0)\n",
    "\n",
    "\n",
    "# planewave excitation\n",
    "p_amp = 0.\n",
    "s_amp = 1.\n",
    "p_phase = 0.\n",
    "s_phase = 0.\n",
    "\n",
    "obj.MakeExcitationPlanewave(p_amp,p_phase,s_amp,s_phase,order = 0)"
   ]
  },
  {
   "cell_type": "code",
   "execution_count": 19,
   "metadata": {},
   "outputs": [],
   "source": [
    "def fun(x):\n",
    "    obj.GridLayer_getDOF(x)\n",
    "    R,T = obj.RT_Solve()\n",
    "    return T"
   ]
  },
  {
   "cell_type": "code",
   "execution_count": 20,
   "metadata": {
    "scrolled": true
   },
   "outputs": [
    {
     "name": "stdout",
     "output_type": "stream",
     "text": [
      "Finite difference =  -1.392524637267023e-07 , Auto =  -1.390011415453346e-07\n"
     ]
    }
   ],
   "source": [
    "grad_fun = grad(fun)\n",
    "\n",
    "x = np.random.random(Nx*Ny)\n",
    "test_grad(fun,grad_fun,x,1e-4,0)"
   ]
  },
  {
   "cell_type": "code",
   "execution_count": null,
   "metadata": {},
   "outputs": [],
   "source": []
  }
 ],
 "metadata": {
  "kernelspec": {
   "display_name": "Python 2",
   "language": "python",
   "name": "python2"
  },
  "language_info": {
   "codemirror_mode": {
    "name": "ipython",
    "version": 2
   },
   "file_extension": ".py",
   "mimetype": "text/x-python",
   "name": "python",
   "nbconvert_exporter": "python",
   "pygments_lexer": "ipython2",
   "version": "2.7.17"
  }
 },
 "nbformat": 4,
 "nbformat_minor": 2
}
