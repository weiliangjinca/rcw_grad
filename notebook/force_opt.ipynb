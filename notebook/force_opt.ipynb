{
 "cells": [
  {
   "cell_type": "code",
   "execution_count": null,
   "metadata": {},
   "outputs": [],
   "source": [
    "import autograd.numpy as np\n",
    "from autograd import grad\n",
    "import nlopt, numpy as npf\n",
    "import matplotlib.pyplot as plt\n",
    "\n",
    "import sys\n",
    "sys.path.append('../')\n",
    "\n",
    "import use_autograd\n",
    "use_autograd.use = 1\n",
    "import rcwa\n",
    "from utils import test_grad"
   ]
  },
  {
   "cell_type": "code",
   "execution_count": null,
   "metadata": {},
   "outputs": [],
   "source": [
    "t = 300e-9\n",
    "Period = 3e-6\n",
    "lam0 = 1.2e-6\n",
    "\n",
    "Nx = 100\n",
    "Ny = 100\n",
    "freq = 1."
   ]
  },
  {
   "cell_type": "code",
   "execution_count": null,
   "metadata": {},
   "outputs": [],
   "source": [
    "nG = 101\n",
    "# lattice vector\n",
    "Lx = Period/lam0\n",
    "Ly = Period/lam0\n",
    "L1 = [Lx,0.]\n",
    "L2 = [0.,Ly]\n",
    "\n",
    "# planewave excitation\n",
    "p_amp = 0.\n",
    "s_amp = 1.\n",
    "p_phase = 0.\n",
    "s_phase = 0.\n",
    "# frequency and angles\n",
    "theta = 0.\n",
    "phi = 0.\n",
    "\n",
    "# now consider three layers: vacuum + patterned + vacuum\n",
    "epsuniform1 = 1.\n",
    "epsdiff = 11.3\n",
    "epsbkg = 1\n",
    "epsuniform3 = 1.\n",
    "\n",
    "thick1 = 1.\n",
    "thick2 = t/lam0\n",
    "thick3 = 1."
   ]
  },
  {
   "cell_type": "code",
   "execution_count": null,
   "metadata": {},
   "outputs": [],
   "source": [
    "ctrl = 0\n",
    "vec = []\n",
    "def fun_Force(dof,Qabs):\n",
    "\n",
    "    freqcmp = freq*(1+1j/2/Qabs)\n",
    "    obj = rcwa.RCWA_obj(nG,L1,L2,freqcmp,theta,phi,verbose=0)\n",
    "    obj.Add_LayerUniform(thick1,epsuniform1)\n",
    "    obj.Add_LayerGrid(thick2,epsdiff,epsbkg,Nx,Ny)\n",
    "    obj.Add_LayerUniform(thick3,epsuniform3)\n",
    "    obj.Init_Setup(Gmethod=0)\n",
    "\n",
    "    obj.MakeExcitationPlanewave(p_amp,p_phase,s_amp,s_phase,order = 0)\n",
    "    obj.GridLayer_getDOF(dof)\n",
    "    Tx,Ty,Tz = obj.Get_ZStressTensorIntegral(0)\n",
    "\n",
    "    if 'autograd' not in str(type(Tz)):\n",
    "        global ctrl\n",
    "        global vec\n",
    "        vec = npf.copy(dof)\n",
    "        R,T = obj.RT_Solve()\n",
    "        \n",
    "        print ctrl,'R =',R,' Fx =',Ty\n",
    "        if npf.mod(ctrl,10)==0:\n",
    "            plt.figure();\n",
    "            plt.imshow(np.reshape(dof,(Nx,Ny)))\n",
    "            plt.colorbar()\n",
    "            plt.show()\n",
    "            \n",
    "        ctrl +=1\n",
    "    return Ty"
   ]
  },
  {
   "cell_type": "markdown",
   "metadata": {},
   "source": [
    "# Qabs = 20"
   ]
  },
  {
   "cell_type": "code",
   "execution_count": null,
   "metadata": {
    "scrolled": false
   },
   "outputs": [],
   "source": [
    "Qabs = np.inf\n",
    "fun = lambda dof: fun_Force(dof,Qabs)\n",
    "grad_fun = grad(fun)\n",
    "def fun_nlopt(dof,gradn):\n",
    "    gradn[:] = grad_fun(dof)\n",
    "    return fun(dof)\n",
    "\n",
    "ndof = Nx*Ny\n",
    "\n",
    "if len(vec) == 0:\n",
    "    init = np.random.random(ndof)\n",
    "else:\n",
    "    init = np.copy(vec)\n",
    "lb=np.zeros(ndof,dtype=float)\n",
    "ub=np.ones(ndof,dtype=float)\n",
    "\n",
    "opt = nlopt.opt(nlopt.LD_MMA, ndof)\n",
    "opt.set_lower_bounds(lb)\n",
    "opt.set_upper_bounds(ub)\n",
    "\n",
    "opt.set_xtol_rel(1e-10)\n",
    "opt.set_maxeval(100)\n",
    "\n",
    "opt.set_min_objective(fun_nlopt)\n",
    "x = opt.optimize(init)"
   ]
  },
  {
   "cell_type": "code",
   "execution_count": null,
   "metadata": {},
   "outputs": [],
   "source": []
  }
 ],
 "metadata": {
  "kernelspec": {
   "display_name": "Python 2",
   "language": "python",
   "name": "python2"
  },
  "language_info": {
   "codemirror_mode": {
    "name": "ipython",
    "version": 2
   },
   "file_extension": ".py",
   "mimetype": "text/x-python",
   "name": "python",
   "nbconvert_exporter": "python",
   "pygments_lexer": "ipython2",
   "version": "2.7.17"
  }
 },
 "nbformat": 4,
 "nbformat_minor": 2
}
